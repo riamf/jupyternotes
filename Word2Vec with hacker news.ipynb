{
 "cells": [
  {
   "cell_type": "code",
   "execution_count": 83,
   "metadata": {},
   "outputs": [],
   "source": [
    "import requests \n",
    "import json\n",
    "top_stories_response = requests.get('https://hacker-news.firebaseio.com/v0/topstories.json?print=pretty')\n",
    "top_stories_ids = json.loads(top_stories_response.content)"
   ]
  },
  {
   "cell_type": "code",
   "execution_count": 91,
   "metadata": {},
   "outputs": [],
   "source": [
    "news = []\n",
    "urls = []\n",
    "s = requests.Session()\n",
    "for idk in top_stories_ids:\n",
    "    url = 'https://hacker-news.firebaseio.com/v0/item/{}.json?print=pretty'.format(idk)\n",
    "    urls.append(url)\n",
    "    response = s.get(url).json()\n",
    "    news.append(response['title'])\n",
    "\n"
   ]
  },
  {
   "cell_type": "code",
   "execution_count": 85,
   "metadata": {},
   "outputs": [
    {
     "data": {
      "text/plain": [
       "['The Wrong Abstraction (2016)',\n",
       " 'Netflix Makes a Statement in India with “Sacred Games”',\n",
       " 'College Rejection Threat Highlights Social Credit Blacklists',\n",
       " 'Public.resource.org wins appeal on right to publish the law [pdf]',\n",
       " 'Doing Windows, Part 5: A Second Try',\n",
       " 'Riving, a Viking-age woodworking technique',\n",
       " 'Why Philosophers Should Care About Computational Complexity [pdf]',\n",
       " 'The Octonion Math That Could Underpin Physics',\n",
       " 'PeerTube, the “Decentralized YouTube”, succeeds in crowdfunding',\n",
       " 'DNS Zombies (2016)']"
      ]
     },
     "execution_count": 85,
     "metadata": {},
     "output_type": "execute_result"
    }
   ],
   "source": [
    "news[:10]"
   ]
  },
  {
   "cell_type": "code",
   "execution_count": 86,
   "metadata": {},
   "outputs": [
    {
     "data": {
      "text/plain": [
       "[['wrong', 'abstract'],\n",
       " ['netflix', 'make', 'statement', 'india', '“sacr', 'games”'],\n",
       " ['colleg', 'reject', 'threat', 'highlight', 'social', 'credit', 'blacklist']]"
      ]
     },
     "execution_count": 86,
     "metadata": {},
     "output_type": "execute_result"
    }
   ],
   "source": [
    "import gensim\n",
    "news_prep = [gensim.parsing.preprocessing.preprocess_string(n) for n in news]\n",
    "\n",
    "news_prep[:3]"
   ]
  },
  {
   "cell_type": "code",
   "execution_count": 87,
   "metadata": {},
   "outputs": [
    {
     "name": "stderr",
     "output_type": "stream",
     "text": [
      "WARNING:gensim.models.base_any2vec:under 10 jobs per worker: consider setting a smaller `batch_words' for smoother alpha decay\n"
     ]
    }
   ],
   "source": [
    "word2vec = gensim.models.Word2Vec(news_prep, size=100,window=10, min_count=2, workers=10)"
   ]
  },
  {
   "cell_type": "code",
   "execution_count": 88,
   "metadata": {},
   "outputs": [
    {
     "name": "stderr",
     "output_type": "stream",
     "text": [
      "WARNING:gensim.models.base_any2vec:under 10 jobs per worker: consider setting a smaller `batch_words' for smoother alpha decay\n"
     ]
    },
    {
     "data": {
      "text/plain": [
       "(8839, 20460)"
      ]
     },
     "execution_count": 88,
     "metadata": {},
     "output_type": "execute_result"
    }
   ],
   "source": [
    "word2vec.train(news_prep, total_examples=len(news_prep), epochs=10)"
   ]
  },
  {
   "cell_type": "code",
   "execution_count": 90,
   "metadata": {},
   "outputs": [
    {
     "data": {
      "text/plain": [
       "[('passport', 0.3877919912338257),\n",
       " ('plai', 0.3261300027370453),\n",
       " ('practic', 0.29943904280662537),\n",
       " ('moon', 0.2781459391117096),\n",
       " ('game', 0.2151266187429428),\n",
       " ('netflix', 0.19887347519397736),\n",
       " ('warn', 0.19503644108772278),\n",
       " ('find', 0.1925685852766037),\n",
       " ('control', 0.186159148812294),\n",
       " ('app', 0.17776241898536682)]"
      ]
     },
     "execution_count": 90,
     "metadata": {},
     "output_type": "execute_result"
    }
   ],
   "source": [
    "word2vec.wv.most_similar('social')"
   ]
  },
  {
   "cell_type": "code",
   "execution_count": 96,
   "metadata": {},
   "outputs": [],
   "source": [
    "html = s.get(s.get(urls[0]).json()['url']).text"
   ]
  },
  {
   "cell_type": "code",
   "execution_count": 98,
   "metadata": {},
   "outputs": [],
   "source": [
    "from bs4 import BeautifulSoup\n",
    "soup = BeautifulSoup(html, 'lxml')"
   ]
  },
  {
   "cell_type": "code",
   "execution_count": 102,
   "metadata": {},
   "outputs": [
    {
     "data": {
      "text/plain": [
       "35"
      ]
     },
     "execution_count": 102,
     "metadata": {},
     "output_type": "execute_result"
    }
   ],
   "source": [
    "ps = soup.findAll('p')\n",
    "len(ps)"
   ]
  },
  {
   "cell_type": "code",
   "execution_count": 115,
   "metadata": {},
   "outputs": [],
   "source": [
    "content = \"\"\n",
    "for p in ps:\n",
    "    content += p.getText() + '.'"
   ]
  },
  {
   "cell_type": "code",
   "execution_count": 106,
   "metadata": {},
   "outputs": [
    {
     "name": "stderr",
     "output_type": "stream",
     "text": [
      "WARNING:gensim.summarization.summarizer:Couldn't get relevant sentences.\n"
     ]
    }
   ],
   "source": []
  },
  {
   "cell_type": "code",
   "execution_count": 117,
   "metadata": {},
   "outputs": [
    {
     "data": {
      "text/plain": [
       "'_I originally wrote the following for my Chainline Newsletter, but I continue to get tweets about this idea, so I\\'m re-publishing the article here on my blog. This version has been lightly edited._.I\\'ve been thinking about the consequences of the \"wrong abstraction.\" My RailsConf 2014 \"all the little things\" talk included a section where I asserted:.duplication is far cheaper than the wrong abstraction.And in the summary, I went on to advise:.prefer duplication over the wrong abstraction.This small section of a much bigger talk invoked a surprisingly strong reaction. A few folks suggested that I had lost my mind, but many more expressed sentiments along the lines of:..This, a million times this! \"@BonzoESC: \"Duplication is far cheaper than the wrong abstraction\" @sandimetz @rbonales pic.twitter.com/3qMI0waqWb\"..The strength of the reaction made me realize just how widespread and intractable the \"wrong abstraction\" problem is. I started asking questions and came to see the following pattern:.Programmer A sees duplication..Programmer A extracts duplication and gives it a name. . This creates a new abstraction. It could be a new method, or perhaps even a new class. .Programmer A replaces the duplication with the new abstraction. . Ah, the code is perfect. Programmer A trots happily away..Time passes..A new requirement appears for which the current abstraction is almost perfect..Programmer B gets tasked to implement this requirement. . Programmer B feels honor-bound to retain the existing abstraction, but since isn\\'t exactly the same for every case, they alter the code to take a parameter, and then add logic to conditionally do the right thing based on the value of that parameter.. What was once a universal abstraction now behaves differently for different cases..Another new requirement arrives.Programmer X.Another additional parameter.Another new conditional.Loop until code becomes incomprehensible..You appear in the story about here, and your life takes a dramatic turn for the worse..Existing code exerts a powerful influence. Its very presence argues that it is both correct and necessary. We know that code represents effort expended, and we are very motivated to preserve the value of this effort. And, unfortunately, the sad truth is that the more complicated and incomprehensible the code, i.e. the deeper the investment in creating it, the more we feel pressure to retain it (the \"sunk cost fallacy\"). It\\'s as if our unconscious tell us \"Goodness, that\\'s so confusing, it must have taken ages to get right. Surely it\\'s really, really important. It would be a sin to let all that effort go to waste.\".When you appear in this story in step 8 above, this pressure may compel you to proceed forward, that is, to implement the new requirement by changing the existing code. Attempting to do so, however, is brutal. The code no longer represents a single, common abstraction, but has instead become a condition-laden procedure which interleaves a number of vaguely associated ideas. It is hard to understand and easy to break..If you find yourself in this situation, resist being driven by sunk costs. When dealing with the wrong abstraction, the fastest way forward is back. Do the following:.This removes both the abstraction and the conditionals, and reduces each caller to only the code it needs. When you rewind decisions in this way, it\\'s common to find that although each caller ostensibly invoked a shared abstraction, the code they were running was fairly unique. Once you completely remove the old abstraction you can start anew, re-isolating duplication and re-extracting abstractions..I\\'ve seen problems where folks were trying valiantly to move forward with the wrong abstraction, but having very little success. Adding new features was incredibly hard, and each success further complicated the code, which made adding the next feature even harder. When they altered their point of view from \"I must preserve our investment in this code\" to \"This code made sense for a while, but perhaps we\\'ve learned all we can from it,\" and gave themselves permission to re-think their abstractions in light of current requirements, everything got easier. Once they inlined the code, the path forward became obvious, and adding new features become faster and easier..The moral of this story? Don\\'t get trapped by the sunk cost fallacy. If you find yourself passing parameters and adding conditional paths through shared code, the abstraction is incorrect. It may have been right to begin with, but that day has passed. Once an abstraction is proved wrong the best strategy is to re-introduce duplication and let it show you what\\'s right. Although it occasionally makes sense to accumulate a few conditionals to gain insight into what\\'s going on, you\\'ll suffer less pain if you abandon the wrong abstraction sooner rather than later. .When the abstraction is wrong, the fastest way forward is back. This is not retreat, it\\'s advance in a better direction. Do it. You\\'ll improve your own life, and the lives of all who follow..My next public Practical Object-Oriented Design course will be held in Durham, NC on May 2-4, 2018. Yup, it\\'s time for another POODNC . This is your chance to spend three days with like-minded peers. Join us, and change how you think about objects..Tickets are on sale now. Get yours before they\\'re gone!.99 Bottles of OOP is complete, and version 1.0.1 is now available. The book is co-authorized by Katrina Owen, and was years in the painful and painstaking making. Learn more about it, read an extended sample, peruse independent reviews, or buy it now..Sign up to receive news and updates... .'"
      ]
     },
     "execution_count": 117,
     "metadata": {},
     "output_type": "execute_result"
    }
   ],
   "source": [
    "content = gensim.parsing.preprocessing.strip_multiple_whitespaces(content)\n",
    "content"
   ]
  },
  {
   "cell_type": "code",
   "execution_count": 122,
   "metadata": {},
   "outputs": [
    {
     "data": {
      "text/plain": [
       "['Programmer A trots happily away..Time passes..A new requirement appears for which the current abstraction is almost perfect..Programmer B gets tasked to implement this requirement.',\n",
       " \". Programmer B feels honor-bound to retain the existing abstraction, but since isn't exactly the same for every case, they alter the code to take a parameter, and then add logic to conditionally do the right thing based on the value of that parameter..\",\n",
       " 'What was once a universal abstraction now behaves differently for different cases..Another new requirement arrives.Programmer X.Another additional parameter.Another new conditional.Loop until code becomes incomprehensible..You appear in the story about here, and your life takes a dramatic turn for the worse..Existing code exerts a powerful influence.',\n",
       " 'And, unfortunately, the sad truth is that the more complicated and incomprehensible the code, i.e. the deeper the investment in creating it, the more we feel pressure to retain it (the \"sunk cost fallacy\").',\n",
       " 'It would be a sin to let all that effort go to waste.\".When you appear in this story in step 8 above, this pressure may compel you to proceed forward, that is, to implement the new requirement by changing the existing code.',\n",
       " 'Do the following:.This removes both the abstraction and the conditionals, and reduces each caller to only the code it needs.',\n",
       " \"Once you completely remove the old abstraction you can start anew, re-isolating duplication and re-extracting abstractions..I've seen problems where folks were trying valiantly to move forward with the wrong abstraction, but having very little success.\",\n",
       " 'If you find yourself passing parameters and adding conditional paths through shared code, the abstraction is incorrect.']"
      ]
     },
     "execution_count": 122,
     "metadata": {},
     "output_type": "execute_result"
    }
   ],
   "source": [
    "sum_c = gensim.summarization.summarize(content, split=True)\n",
    "sum_c"
   ]
  },
  {
   "cell_type": "code",
   "execution_count": null,
   "metadata": {},
   "outputs": [],
   "source": []
  }
 ],
 "metadata": {
  "kernelspec": {
   "display_name": "Python 3",
   "language": "python",
   "name": "python3"
  },
  "language_info": {
   "codemirror_mode": {
    "name": "ipython",
    "version": 3
   },
   "file_extension": ".py",
   "mimetype": "text/x-python",
   "name": "python",
   "nbconvert_exporter": "python",
   "pygments_lexer": "ipython3",
   "version": "3.6.3"
  }
 },
 "nbformat": 4,
 "nbformat_minor": 2
}
