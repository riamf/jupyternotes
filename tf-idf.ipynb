{
 "cells": [
  {
   "cell_type": "code",
   "execution_count": 7,
   "metadata": {},
   "outputs": [
    {
     "name": "stdout",
     "output_type": "stream",
     "text": [
      "Found 30 documents \n"
     ]
    }
   ],
   "source": [
    "import pandas as pd\n",
    "import requests\n",
    "import xml.etree.ElementTree as ET\n",
    "\n",
    "response = requests.get(\"https://news.ycombinator.com/rss\")\n",
    "root = ET.fromstring(response.content)\n",
    "channel = root.getchildren()[0]\n",
    "items = channel.findall(\"item\")\n",
    "print(\"Found\", len(items), \"documents \")"
   ]
  },
  {
   "cell_type": "code",
   "execution_count": 11,
   "metadata": {},
   "outputs": [
    {
     "name": "stdout",
     "output_type": "stream",
     "text": [
      "Repair cafés waging war on throwaway culture\n",
      "Mathematics for Computer Science: Readings\n",
      "The Nightmare Letter: A Subject Access Request Under GDPR\n",
      "Hack everything without fear\n",
      "TinyVM – A small and easy to understand virtual machine in C\n",
      "50M Facebook profiles harvested for Cambridge Analytica in major data breach\n",
      "Tail recursion in Python\n",
      "Show HN: Makesite – A static site generator in 125 lines of Python\n",
      "Inheritance Often Doesn't Make Sense\n",
      "Launch HN: Rhythmm (YC W18) – Create channels and broadcast them to an audience\n",
      "More State Machine Love: From Reflection to Statecharts\n",
      "Kikkuli, 1345 BCE: Training the Chariot Horse\n",
      "How Europeans evolved white skin (2015)\n",
      "Power Outage at Samsung Fab Destroys 3.5% of Global NAND Flash Output for March\n",
      "Tail calls, tailrec and trampolines (2009)\n",
      "The Struggle of Keeping a Roadside Attraction Alive\n",
      "The Unlikely Pulp Fiction Illustrations of Edward Hopper\n",
      "Chirpss – Hear and see people visiting or leaving your website\n",
      "Troubleshooting IPv6 badness to certain hosts in a rack\n",
      "Google Maps has found a better way to navigate India’s chaotic roads\n",
      "Berkeley Council Approves Surveillance Technology Oversight Ordinance\n",
      "Making a TTS model with 1 minute of speech samples within 10 minutes\n",
      "Schools Are Spending Millions on High-Tech Surveillance of Kids\n",
      "At My Lai: The Photographer Who Captured the Massacre\n",
      "The Game of Everything, Part 1: Making Civilization\n",
      "GrayKey iPhone unlocker poses serious security concerns\n",
      "Japan’s Prisons Are a Haven for Elderly Women\n",
      "10x Performance Increases: Optimizing a Static Site\n",
      "Bus Lane Blocked, He Trained His Computer to Catch Scofflaws\n",
      "Money creation in the modern economy (2014) [pdf]\n"
     ]
    }
   ],
   "source": [
    "documents = []\n",
    "[documents.append(i.find(\"title\").text) for i in items]\n",
    "for doc in documents:\n",
    "    print(doc)"
   ]
  },
  {
   "cell_type": "code",
   "execution_count": null,
   "metadata": {},
   "outputs": [],
   "source": []
  }
 ],
 "metadata": {
  "kernelspec": {
   "display_name": "Python 3",
   "language": "python",
   "name": "python3"
  },
  "language_info": {
   "codemirror_mode": {
    "name": "ipython",
    "version": 3
   },
   "file_extension": ".py",
   "mimetype": "text/x-python",
   "name": "python",
   "nbconvert_exporter": "python",
   "pygments_lexer": "ipython3",
   "version": "3.6.3"
  }
 },
 "nbformat": 4,
 "nbformat_minor": 2
}
