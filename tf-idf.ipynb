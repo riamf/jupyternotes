{
 "cells": [
  {
   "cell_type": "code",
   "execution_count": 1,
   "metadata": {},
   "outputs": [
    {
     "name": "stdout",
     "output_type": "stream",
     "text": [
      "Found 30 documents \n"
     ]
    }
   ],
   "source": [
    "import pandas as pd\n",
    "import requests\n",
    "import xml.etree.ElementTree as ET\n",
    "\n",
    "response = requests.get(\"https://news.ycombinator.com/rss\")\n",
    "root = ET.fromstring(response.content)\n",
    "channel = root.getchildren()[0]\n",
    "items = channel.findall(\"item\")\n",
    "print(\"Found\", len(items), \"documents \")"
   ]
  },
  {
   "cell_type": "code",
   "execution_count": 2,
   "metadata": {},
   "outputs": [
    {
     "name": "stdout",
     "output_type": "stream",
     "text": [
      "Gigantic Circular Shock Acoustic Waves in Ionosphere Triggered by SpaceX Launch\n",
      "Evolution Is the New Deep Learning\n",
      "Section  A Key Legal Shield for Facebook Google Is About to Change\n",
      "A Visiting Star Jostled Our Solar System  Years Ago\n",
      "Hedgefund managers that do the most research will post the best returns\n",
      "Number systems of the world sorted by complexity of counting \n",
      "GitLab  released with CICD for GitHub\n",
      "Coming Soon to a Wrist Near You MicroLED Displays\n",
      "Steinhaus Longimeter\n",
      "Fractions in the Farey Sequences and the SternBrocot Tree\n",
      "Show HN Transfer files to mobile device by scanning a QR code from the terminal\n",
      "Zendar is hiring a graduate student intern\n",
      "Zuckerberg and Sandberg cant be trusted to handle data leak fallout\n",
      "Show HN Asynchronous HTTP client for Python \n",
      "Krita   A painting app for cartoonists illustrators and concept artists\n",
      "Understanding CPU ports contention\n",
      "Where to Score Classified Ads from HaightAshbury\n",
      "Cutting Old Heads at IBM\n",
      "Walmart Launches Small Army of Autonomous Scanning Robots\n",
      "TravisBuddy Adds comments to failed pull requests tells author what went wrong\n",
      "The Myth of Authenticity Is Killing TexMex\n",
      "Tech Giants Face Hundreds of Millions in New Taxes in Europe\n",
      "Efficient Recurrent Neural Networks using Structured Matrices in FPGAs\n",
      "SCL  A Very British Coup\n",
      "Intels Chipped Chips\n",
      "Chaos and Variance in Galaxy Formation\n",
      "Exploring WordVec\n",
      "Why Technical Debt Can Be a Good Thing\n",
      "Logging in large mathematical models\n",
      "Firefox Product Roadmap\n"
     ]
    }
   ],
   "source": [
    "documents = []\n",
    "documents = []\n",
    "#Filtering all non alphanumeic or whitespace characters\n",
    "for i in items:\n",
    "    text = i.find(\"title\").text\n",
    "    res = ''.join(e for e in text if (e.isalpha() | e.isspace()))\n",
    "    documents.append(res)\n",
    "\n",
    "for doc in documents:\n",
    "    print(doc)"
   ]
  },
  {
   "cell_type": "code",
   "execution_count": 3,
   "metadata": {},
   "outputs": [
    {
     "name": "stdout",
     "output_type": "stream",
     "text": [
      "Gigantic Circular Shock Acoustic Waves in Ionosphere Triggered by SpaceX Launch Evolution Is the New Deep Learning Section  A Key Legal Shield for Facebook Google Is About to Change A Visiting Star Jostled Our Solar System  Years Ago Hedgefund managers that do the most research will post the best returns Number systems of the world sorted by complexity of counting  GitLab  released with CICD for GitHub Coming Soon to a Wrist Near You MicroLED Displays Steinhaus Longimeter Fractions in the Farey Sequences and the SternBrocot Tree Show HN Transfer files to mobile device by scanning a QR code from the terminal Zendar is hiring a graduate student intern Zuckerberg and Sandberg cant be trusted to handle data leak fallout Show HN Asynchronous HTTP client for Python  Krita   A painting app for cartoonists illustrators and concept artists Understanding CPU ports contention Where to Score Classified Ads from HaightAshbury Cutting Old Heads at IBM Walmart Launches Small Army of Autonomous Scanning Robots TravisBuddy Adds comments to failed pull requests tells author what went wrong The Myth of Authenticity Is Killing TexMex Tech Giants Face Hundreds of Millions in New Taxes in Europe Efficient Recurrent Neural Networks using Structured Matrices in FPGAs SCL  A Very British Coup Intels Chipped Chips Chaos and Variance in Galaxy Formation Exploring WordVec Why Technical Debt Can Be a Good Thing Logging in large mathematical models Firefox Product Roadmap\n"
     ]
    }
   ],
   "source": [
    "#joining words\n",
    "integrated = ' '.join(documents)\n",
    "print(integrated)"
   ]
  },
  {
   "cell_type": "code",
   "execution_count": 4,
   "metadata": {},
   "outputs": [],
   "source": [
    "# Counting f(w,d) - number of times word appears in document\n",
    "\n",
    "from collections import Counter\n",
    "\n",
    "doc_count = []\n",
    "for doc in documents:\n",
    "    c_tuple = Counter(doc.split()).most_common()\n",
    "    doc_count.append(c_tuple)\n",
    "\n",
    "# for touples in doc_count:\n",
    "#     for t in touples:\n",
    "#         print('{} - {}'.format(t[0], t[1]))"
   ]
  },
  {
   "cell_type": "code",
   "execution_count": null,
   "metadata": {},
   "outputs": [],
   "source": []
  }
 ],
 "metadata": {
  "kernelspec": {
   "display_name": "Python 3",
   "language": "python",
   "name": "python3"
  },
  "language_info": {
   "codemirror_mode": {
    "name": "ipython",
    "version": 3
   },
   "file_extension": ".py",
   "mimetype": "text/x-python",
   "name": "python",
   "nbconvert_exporter": "python",
   "pygments_lexer": "ipython3",
   "version": "3.6.3"
  }
 },
 "nbformat": 4,
 "nbformat_minor": 2
}
