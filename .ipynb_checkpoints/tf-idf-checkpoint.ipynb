{
 "cells": [
  {
   "cell_type": "code",
   "execution_count": 15,
   "metadata": {},
   "outputs": [
    {
     "name": "stdout",
     "output_type": "stream",
     "text": [
      "Found 30 documents \n"
     ]
    }
   ],
   "source": [
    "import pandas as pd\n",
    "import requests\n",
    "import xml.etree.ElementTree as ET\n",
    "\n",
    "response = requests.get(\"https://news.ycombinator.com/rss\")\n",
    "root = ET.fromstring(response.content)\n",
    "channel = root.getchildren()[0]\n",
    "items = channel.findall(\"item\")\n",
    "print(\"Found\", len(items), \"documents \")"
   ]
  },
  {
   "cell_type": "code",
   "execution_count": 16,
   "metadata": {},
   "outputs": [
    {
     "name": "stdout",
     "output_type": "stream",
     "text": [
      "Zuckerberg on Cambridge Analytica situation\n",
      "Protecting Security Researchers\n",
      "Using old laptop batteries to build homemade powerwalls\n",
      "Cloud Identity\n",
      "Peer review the end of an error\n",
      "The Glory That Was Yahoo\n",
      "Dejavu  Web UI for Elasticsearch\n",
      "Hennessy and Patterson win Turing Award\n",
      "Introducing the LineageOS SDK\n",
      "Airborn Create and edit files online securely\n",
      "Joy of Cooking versus the Food Scientist\n",
      "Tell HN I just wanted to say thank you Hacker News\n",
      "Payments from Industry Associated with Greater Medicare Prescribing Costs \n",
      "Big Other Surveillance Capitalism and Prospects of an Information Civilization\n",
      "Facebook Is Not the Internets Only Privacy Villain\n",
      "Guide to Slack import and export tools\n",
      "YouTubes fake views economy\n",
      "Complex Animals Led to More Oxygen Says Maverick Theory\n",
      "How we should pay for newspapers\n",
      "Polands economic experiment based on Thomas Piketty\n",
      "Understanding Spectre and Meltdown  Part \n",
      "The Legitimisation of Have I Been Pwned\n",
      "From Rails to Clojure Then to Java Then Back to Rails\n",
      "Willing YC S Is Hiring a Head of Paid Growth and Marketing\n",
      "The woman who saved Stephen Hawkings voice and gave the tech to those in need\n",
      "Sources Google is buying Lytro for about M\n",
      "Pointing machine\n",
      "Criminal Law   pdf\n",
      "How Hard Is It to Get a Cartoon into the New Yorker \n",
      "Japans older hikikomori live in isolation shunning society for years\n"
     ]
    }
   ],
   "source": [
    "documents = []\n",
    "documents = []\n",
    "#Filtering all non alphanumeic or whitespace characters\n",
    "for i in items:\n",
    "    text = i.find(\"title\").text\n",
    "    res = ''.join(e for e in text if (e.isalpha() | e.isspace()))\n",
    "    documents.append(res)\n",
    "\n",
    "for doc in documents:\n",
    "    print(doc)"
   ]
  },
  {
   "cell_type": "code",
   "execution_count": 17,
   "metadata": {},
   "outputs": [
    {
     "name": "stdout",
     "output_type": "stream",
     "text": [
      "Zuckerberg on Cambridge Analytica situation Protecting Security Researchers Using old laptop batteries to build homemade powerwalls Cloud Identity Peer review the end of an error The Glory That Was Yahoo Dejavu  Web UI for Elasticsearch Hennessy and Patterson win Turing Award Introducing the LineageOS SDK Airborn Create and edit files online securely Joy of Cooking versus the Food Scientist Tell HN I just wanted to say thank you Hacker News Payments from Industry Associated with Greater Medicare Prescribing Costs  Big Other Surveillance Capitalism and Prospects of an Information Civilization Facebook Is Not the Internets Only Privacy Villain Guide to Slack import and export tools YouTubes fake views economy Complex Animals Led to More Oxygen Says Maverick Theory How we should pay for newspapers Polands economic experiment based on Thomas Piketty Understanding Spectre and Meltdown  Part  The Legitimisation of Have I Been Pwned From Rails to Clojure Then to Java Then Back to Rails Willing YC S Is Hiring a Head of Paid Growth and Marketing The woman who saved Stephen Hawkings voice and gave the tech to those in need Sources Google is buying Lytro for about M Pointing machine Criminal Law   pdf How Hard Is It to Get a Cartoon into the New Yorker  Japans older hikikomori live in isolation shunning society for years\n"
     ]
    }
   ],
   "source": [
    "#joining words\n",
    "integrated = ' '.join(documents)\n",
    "print(integrated)"
   ]
  },
  {
   "cell_type": "code",
   "execution_count": 18,
   "metadata": {},
   "outputs": [],
   "source": [
    "# Counting f(w,d) - number of times word appears in document\n",
    "\n",
    "from collections import Counter\n",
    "\n",
    "doc_count = []\n",
    "for doc in documents:\n",
    "    c_tuple = Counter(doc.split()).most_common()\n",
    "    doc_count.append(c_tuple)\n",
    "\n",
    "# for touples in doc_count:\n",
    "#     for t in touples:\n",
    "#         print('{} - {}'.format(t[0], t[1]))"
   ]
  },
  {
   "cell_type": "code",
   "execution_count": null,
   "metadata": {},
   "outputs": [],
   "source": []
  }
 ],
 "metadata": {
  "kernelspec": {
   "display_name": "Python 3",
   "language": "python",
   "name": "python3"
  },
  "language_info": {
   "codemirror_mode": {
    "name": "ipython",
    "version": 3
   },
   "file_extension": ".py",
   "mimetype": "text/x-python",
   "name": "python",
   "nbconvert_exporter": "python",
   "pygments_lexer": "ipython3",
   "version": "3.6.3"
  }
 },
 "nbformat": 4,
 "nbformat_minor": 2
}
